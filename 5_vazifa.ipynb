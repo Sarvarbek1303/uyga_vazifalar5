{
 "cells": [
  {
   "cell_type": "markdown",
   "metadata": {},
   "source": [
    "Uyga vazifa"
   ]
  },
  {
   "cell_type": "code",
   "execution_count": 1,
   "metadata": {},
   "outputs": [
    {
     "name": "stdout",
     "output_type": "stream",
     "text": [
      "The area of the triangle is 14.70\n"
     ]
    }
   ],
   "source": [
    "# Three sides of the triangle is a, b and c:  \n",
    "a = float(input('Enter first side: '))  \n",
    "b = float(input('Enter second side: '))  \n",
    "c = float(input('Enter third side: '))  \n",
    "  \n",
    "# calculate the semi-perimeter  \n",
    "s = (a + b + c) / 2  \n",
    "  \n",
    "# calculate the area  \n",
    "area = (s*(s-a)*(s-b)*(s-c)) ** 0.5  \n",
    "print('The area of the triangle is %0.2f' %area) "
   ]
  },
  {
   "cell_type": "code",
   "execution_count": 6,
   "metadata": {},
   "outputs": [
    {
     "name": "stdout",
     "output_type": "stream",
     "text": [
      "Triangle is Invalid.\n"
     ]
    }
   ],
   "source": [
    "def is_valid_triangle(a,b,c):\n",
    "    if a+b>=c and b+c>=a and c+a>=b:\n",
    "        return True\n",
    "    else:\n",
    "        return False\n",
    "\n",
    "# Reading Three Sides\n",
    "side_a = float(input('Enter length of side a: '))\n",
    "side_b = float(input('Enter length of side b: '))\n",
    "side_c = float(input('Enter length of side c: '))\n",
    "\n",
    "# Function call & making decision\n",
    "\n",
    "if is_valid_triangle(side_a, side_b, side_c):\n",
    "    print('Triangle is Valid.')\n",
    "else:\n",
    "    print('Triangle is Invalid.')"
   ]
  },
  {
   "cell_type": "code",
   "execution_count": 7,
   "metadata": {},
   "outputs": [
    {
     "name": "stdout",
     "output_type": "stream",
     "text": [
      "Uyga Vazifa\n"
     ]
    }
   ],
   "source": [
    "my_string1 = \"Uyga\"\n",
    "my_string2 = \"Vazifa\"\n",
    "combined_string = f\"{my_string1} {my_string2}\"\n",
    "print(combined_string)"
   ]
  },
  {
   "cell_type": "code",
   "execution_count": 14,
   "metadata": {},
   "outputs": [
    {
     "name": "stdout",
     "output_type": "stream",
     "text": [
      "[10, 20, 30, 40, 50, 60, 70, 80, 90, 100]\n",
      "Sum of numbers divisible by 2 and 5: 550\n"
     ]
    }
   ],
   "source": [
    "sum_2va5 = 0\n",
    "divisible_by_2_and_5 = [x for x in range(1, 101) if x % 2 == 0 and x % 5 == 0]\n",
    "sum_2va5 = sum(divisible_by_2_and_5)\n",
    "print(divisible_by_2_and_5)\n",
    "print(f\"Sum of numbers divisible by 2 and 5: {sum_2va5}\")\n",
    "\n"
   ]
  },
  {
   "cell_type": "code",
   "execution_count": 15,
   "metadata": {},
   "outputs": [
    {
     "name": "stdout",
     "output_type": "stream",
     "text": [
      "\n",
      "Good evening Sari\n"
     ]
    }
   ],
   "source": [
    "import datetime\n",
    "currentTime = datetime.datetime.now()\n",
    "currentTime.hour\n",
    " \n",
    "name =input(\"Enter your Name: \")\n",
    " \n",
    "if currentTime.hour < 12:\n",
    "    print('\\nGood morning', name)\n",
    "elif 12 <= currentTime.hour < 18:\n",
    "    print('\\nGood afternoon', name)\n",
    "else:\n",
    "    print('\\nGood evening', name)"
   ]
  },
  {
   "cell_type": "code",
   "execution_count": 18,
   "metadata": {},
   "outputs": [
    {
     "name": "stdout",
     "output_type": "stream",
     "text": [
      "[10, 20, 30, 40, 50, 60, 70, 80, 90, 100]\n",
      "Sum of numbers divisible by 2 and 5: 550\n"
     ]
    }
   ],
   "source": [
    "sum_2va5 = 0\n",
    "divisible_by_2_and_5 = []\n",
    "n = 1\n",
    "\n",
    "while n <= 100:\n",
    "    if n % 2 == 0 and n % 5 == 0:\n",
    "        divisible_by_2_and_5.append(n) \n",
    "        sum_2va5 += n\n",
    "    n += 1\n",
    "\n",
    "print(divisible_by_2_and_5)\n",
    "print(f\"Sum of numbers divisible by 2 and 5: {sum_2va5}\")"
   ]
  },
  {
   "cell_type": "code",
   "execution_count": null,
   "metadata": {},
   "outputs": [],
   "source": []
  }
 ],
 "metadata": {
  "kernelspec": {
   "display_name": "base",
   "language": "python",
   "name": "python3"
  },
  "language_info": {
   "codemirror_mode": {
    "name": "ipython",
    "version": 3
   },
   "file_extension": ".py",
   "mimetype": "text/x-python",
   "name": "python",
   "nbconvert_exporter": "python",
   "pygments_lexer": "ipython3",
   "version": "3.12.4"
  }
 },
 "nbformat": 4,
 "nbformat_minor": 2
}
